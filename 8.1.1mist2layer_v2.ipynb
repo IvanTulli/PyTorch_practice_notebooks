{
 "cells": [
  {
   "cell_type": "markdown",
   "id": "3c154452-c49b-4dff-8d3a-ab5867e840aa",
   "metadata": {},
   "source": [
    "<p style=\"text-align:center\">\n",
    "    <a href=\"https://skills.network\" target=\"_blank\">\n",
    "    <img src=\"https://cf-courses-data.s3.us.cloud-object-storage.appdomain.cloud/assets/logos/SN_web_lightmode.png\" width=\"200\" alt=\"Skills Network Logo\">\n",
    "    </a>\n",
    "</p>\n"
   ]
  },
  {
   "cell_type": "markdown",
   "id": "0bd3ee5d-9206-4f35-8785-9fc89cc3797c",
   "metadata": {},
   "source": [
    "<h1>Deep Neural Networks</h1>\n"
   ]
  },
  {
   "cell_type": "markdown",
   "id": "39754959-658f-46f3-b496-3cfc666c1773",
   "metadata": {},
   "source": [
    "\n",
    "<h3>Objective for this Notebook<h3>    \n",
    "<h5> 1. Define Several Neural Network, Criterion function, Optimizer.</h5>\n",
    "<h5> 2. Test Sigmoid,Tanh and Relu. </h5>\n",
    "<h5> 3. Analyse Results. </h5>     \n",
    "\n"
   ]
  },
  {
   "cell_type": "markdown",
   "id": "7b4dd67f-a5f3-4606-8bda-3ff139205b98",
   "metadata": {},
   "source": [
    "<h2>Table of Contents</h2>\n",
    "<p>In this lab, you will test Sigmoid, Tanh and Relu activation functions on the MNIST dataset with two hidden Layers.</p>\n",
    "\n",
    "<ul>\n",
    "    <li><a href=\"#Model\">Neural Network Module and Training Function</a></li>\n",
    "    <li><a href=\"#Makeup_Data\">Make Some Data</a></li>\n",
    "    <li><a href=\"#Train\">Define Several Neural Network, Criterion function, Optimizer</a></li>\n",
    "    <li><a href=\"#Test\">Test Sigmoid,Tanh and Relu </a></li>\n",
    "    <li><a href=\"#Result\">Analyse Results</a></li>\n",
    "</ul>\n",
    "<p>Estimated Time Needed: <strong>25 min</strong></p>\n",
    "\n",
    "<hr>\n"
   ]
  },
  {
   "cell_type": "markdown",
   "id": "8ab5a828-bf6f-410b-9dc8-c15113fad573",
   "metadata": {},
   "source": [
    "We'll need the following libraries\n"
   ]
  },
  {
   "cell_type": "code",
   "execution_count": 1,
   "id": "b83e699e-fe3f-4d19-8233-5f7981435d1d",
   "metadata": {},
   "outputs": [
    {
     "data": {
      "text/plain": [
       "<torch._C.Generator at 0x163fff3f2f0>"
      ]
     },
     "execution_count": 1,
     "metadata": {},
     "output_type": "execute_result"
    }
   ],
   "source": [
    "# Import the libraries we need for this lab\n",
    "\n",
    "# Using the following line code to install the torchvision library\n",
    "# !mamba install -y torchvision\n",
    "\n",
    "#!pip install torchvision==0.9.1 torch==1.8.1 \n",
    "import torch \n",
    "import torch.nn as nn\n",
    "import torchvision.transforms as transforms\n",
    "import torchvision.datasets as dsets\n",
    "import torch.nn.functional as F\n",
    "import matplotlib.pylab as plt\n",
    "import numpy as np\n",
    "torch.manual_seed(2)"
   ]
  },
  {
   "cell_type": "markdown",
   "id": "6954ad35-b599-4b79-9b71-91a14a8fbb12",
   "metadata": {},
   "source": [
    "<!--Empty Space for separating topics-->\n"
   ]
  },
  {
   "cell_type": "markdown",
   "id": "394a117d-217e-4108-ac38-1c5bef5d586e",
   "metadata": {},
   "source": [
    "<a name=\"Model\"><h2 id=\"Model\">Neural Network Module and Training Function</h2></a>\n"
   ]
  },
  {
   "cell_type": "markdown",
   "id": "4a3ddd7d-6b4a-4209-afd2-dcc90e3e6435",
   "metadata": {},
   "source": [
    "Define the neural network module or class, with two hidden Layers \n"
   ]
  },
  {
   "cell_type": "markdown",
   "id": "931c0bf7-82cd-4ba8-9952-f96df253ab49",
   "metadata": {},
   "source": [
    "<img src=\"https://ibm.box.com/shared/static/5wtclahun0f70qlwkn2kxzh3amnbq4zg.png\" width=\"200\" alt=\"Neural Network Model\">\n"
   ]
  },
  {
   "cell_type": "code",
   "execution_count": 2,
   "id": "74e080eb-453f-4d8d-a1e3-d52f034e1b0c",
   "metadata": {},
   "outputs": [],
   "source": [
    "# Create the model class using sigmoid as the activation function\n",
    "\n",
    "class Net(nn.Module):\n",
    "    \n",
    "    # Constructor\n",
    "    def __init__(self, D_in, H1, H2, D_out):\n",
    "        super(Net, self).__init__()\n",
    "        self.linear1 = nn.Linear(D_in, H1)\n",
    "        self.linear2 = nn.Linear(H1, H2)\n",
    "        self.linear3 = nn.Linear(H2, D_out)\n",
    "    \n",
    "    # Prediction\n",
    "    def forward(self,x):\n",
    "        x = torch.sigmoid(self.linear1(x)) \n",
    "        x = torch.sigmoid(self.linear2(x))\n",
    "        x = self.linear3(x)\n",
    "        return x"
   ]
  },
  {
   "cell_type": "markdown",
   "id": "9fb9566e-42ad-4fb8-bd00-1f8ab689fac8",
   "metadata": {},
   "source": [
    "Define the class with the Tanh activation function \n"
   ]
  },
  {
   "cell_type": "code",
   "execution_count": 3,
   "id": "98b02ae9-59c7-4894-bf46-c22e74cc55b8",
   "metadata": {},
   "outputs": [],
   "source": [
    "# Create the model class using Tanh as a activation function\n",
    "\n",
    "class NetTanh(nn.Module):\n",
    "    \n",
    "    # Constructor\n",
    "    def __init__(self, D_in, H1, H2, D_out):\n",
    "        super(NetTanh, self).__init__()\n",
    "        self.linear1 = nn.Linear(D_in, H1)\n",
    "        self.linear2 = nn.Linear(H1, H2)\n",
    "        self.linear3 = nn.Linear(H2, D_out)\n",
    "    \n",
    "    # Prediction\n",
    "    def forward(self, x):\n",
    "        x = torch.tanh(self.linear1(x))\n",
    "        x = torch.tanh(self.linear2(x))\n",
    "        x = self.linear3(x)\n",
    "        return x"
   ]
  },
  {
   "cell_type": "markdown",
   "id": "b3c1362f-9bab-4409-9b68-d5df037a6cb5",
   "metadata": {},
   "source": [
    "Define the class for the Relu activation function \n"
   ]
  },
  {
   "cell_type": "code",
   "execution_count": 4,
   "id": "1d979fd2-6ab3-455d-a9fb-cbd10fa1c492",
   "metadata": {},
   "outputs": [],
   "source": [
    "# Create the model class using Relu as a activation function\n",
    "\n",
    "class NetRelu(nn.Module):\n",
    "    \n",
    "    # Constructor\n",
    "    def __init__(self, D_in, H1, H2, D_out):\n",
    "        super(NetRelu, self).__init__()\n",
    "        self.linear1 = nn.Linear(D_in, H1)\n",
    "        self.linear2 = nn.Linear(H1, H2)\n",
    "        self.linear3 = nn.Linear(H2, D_out)\n",
    "    \n",
    "    # Prediction\n",
    "    def forward(self, x):\n",
    "        x = torch.relu(self.linear1(x))  \n",
    "        x = torch.relu(self.linear2(x))\n",
    "        x = self.linear3(x)\n",
    "        return x"
   ]
  },
  {
   "cell_type": "markdown",
   "id": "b3143b2b-e018-47c0-b032-27b8b80bfa65",
   "metadata": {},
   "source": [
    "Define a function to  train the model, in this case the function returns a Python dictionary to store the training loss and accuracy on the validation data \n"
   ]
  },
  {
   "cell_type": "code",
   "execution_count": 5,
   "id": "bd3fe832-ffcb-4ab4-bc06-c560b5916eab",
   "metadata": {},
   "outputs": [],
   "source": [
    "# Train the model\n",
    "\n",
    "def train(model, criterion, train_loader, validation_loader, optimizer, epochs=100):\n",
    "    i = 0\n",
    "    useful_stuff = {'training_loss': [], 'validation_accuracy': []}  \n",
    "    \n",
    "    for epoch in range(epochs):\n",
    "        for i, (x, y) in enumerate(train_loader):\n",
    "            optimizer.zero_grad()\n",
    "            z = model(x.view(-1, 28 * 28))\n",
    "            loss = criterion(z, y)\n",
    "            loss.backward()\n",
    "            optimizer.step()\n",
    "            useful_stuff['training_loss'].append(loss.data.item())\n",
    "        \n",
    "        correct = 0\n",
    "        for x, y in validation_loader:\n",
    "            z = model(x.view(-1, 28 * 28))\n",
    "            _, label = torch.max(z, 1)\n",
    "            correct += (label == y).sum().item()\n",
    "    \n",
    "        accuracy = 100 * (correct / len(validation_dataset))\n",
    "        useful_stuff['validation_accuracy'].append(accuracy)\n",
    "    \n",
    "    return useful_stuff"
   ]
  },
  {
   "cell_type": "markdown",
   "id": "82338bee-23d4-4d0d-a801-b59628de6160",
   "metadata": {},
   "source": [
    "<!--Empty Space for separating topics-->\n"
   ]
  },
  {
   "cell_type": "markdown",
   "id": "d19d5d56-5ebf-4f87-9bfe-c22f0602e1c9",
   "metadata": {},
   "source": [
    "<a name=\"Makeup_Data\"><h2 id=\"Makeup_Data\">Make Some Data</h2></a>\n"
   ]
  },
  {
   "cell_type": "markdown",
   "id": "ca5a78f1-4339-45ae-bb71-92d434956a6f",
   "metadata": {},
   "source": [
    "Load the training dataset by setting the parameters <code>train</code> to <code>True</code> and convert it to a tensor  by placing a transform object int the argument <code>transform</code>\n"
   ]
  },
  {
   "cell_type": "code",
   "execution_count": 6,
   "id": "ca2557cc-f2d9-43ca-8b18-1ca31fbfd61f",
   "metadata": {},
   "outputs": [],
   "source": [
    "# Create the training dataset\n",
    "\n",
    "train_dataset = dsets.MNIST(root='./data', train=True, download=True, transform=transforms.ToTensor())"
   ]
  },
  {
   "cell_type": "markdown",
   "id": "b6b63604-95a1-4790-a543-eb23189f26ca",
   "metadata": {},
   "source": [
    "Load the testing dataset by setting the parameters <code>train</code> to <code>False</code> and convert it to a tensor  by placing a transform object int the argument <code>transform</code>\n"
   ]
  },
  {
   "cell_type": "code",
   "execution_count": 7,
   "id": "32e0ef65-97e2-418f-8694-4a49cf49657f",
   "metadata": {},
   "outputs": [],
   "source": [
    "# Create the validating dataset\n",
    "\n",
    "validation_dataset = dsets.MNIST(root='./data', train=False, download=True, transform=transforms.ToTensor())"
   ]
  },
  {
   "cell_type": "markdown",
   "id": "10b00ed9-108e-4b6d-b421-072c35d7b923",
   "metadata": {},
   "source": [
    "Create the criterion function  \n"
   ]
  },
  {
   "cell_type": "code",
   "execution_count": 8,
   "id": "d0136be3-0ef0-4fc4-93d3-ce60f01cdc98",
   "metadata": {},
   "outputs": [],
   "source": [
    "# Create the criterion function\n",
    "\n",
    "criterion = nn.CrossEntropyLoss()"
   ]
  },
  {
   "cell_type": "markdown",
   "id": "637d4b2d-880b-4ef9-89cb-3d1f03b2b2d2",
   "metadata": {},
   "source": [
    "Create the training-data loader and the validation-data loader object \n"
   ]
  },
  {
   "cell_type": "code",
   "execution_count": 9,
   "id": "ae07f315-f181-49b7-9251-21df82bbb0f0",
   "metadata": {},
   "outputs": [],
   "source": [
    "# Create the training data loader and validation data loader object\n",
    "\n",
    "train_loader = torch.utils.data.DataLoader(dataset=train_dataset, batch_size=2000, shuffle=True)\n",
    "validation_loader = torch.utils.data.DataLoader(dataset=validation_dataset, batch_size=5000, shuffle=False)"
   ]
  },
  {
   "cell_type": "markdown",
   "id": "d4e394ad-d0da-406c-80b8-9e608eb9955f",
   "metadata": {},
   "source": [
    "<!--Empty Space for separating topics-->\n"
   ]
  },
  {
   "cell_type": "markdown",
   "id": "b0a117c2-4ff4-4480-8261-8247eb1e8ccb",
   "metadata": {},
   "source": [
    "<a name=\"Train\"><h2 id=\"Train\">Define Neural Network, Criterion function, Optimizer and Train the Model</h2></a> \n"
   ]
  },
  {
   "cell_type": "markdown",
   "id": "4b21fa28-1f25-4625-ba67-089052b91cab",
   "metadata": {},
   "source": [
    "Create  the model with 100 hidden layers  \n"
   ]
  },
  {
   "cell_type": "code",
   "execution_count": 10,
   "id": "3bc70e2a-bf26-446f-93e4-071bf024f7d4",
   "metadata": {},
   "outputs": [],
   "source": [
    "# Set the parameters for create the model\n",
    "\n",
    "input_dim = 28 * 28\n",
    "hidden_dim1 = 50\n",
    "hidden_dim2 = 50\n",
    "output_dim = 10"
   ]
  },
  {
   "cell_type": "markdown",
   "id": "1b7df0fd-7693-4e7f-a6ba-7b4e00357fee",
   "metadata": {},
   "source": [
    "The epoch number in the video is 35. You can try 10 for now. If you try 35, it may take a long time.\n"
   ]
  },
  {
   "cell_type": "code",
   "execution_count": 11,
   "id": "73664a3b-5279-4de7-87fb-283eb98aacb6",
   "metadata": {},
   "outputs": [],
   "source": [
    "# Set the number of iterations\n",
    "\n",
    "cust_epochs = 10"
   ]
  },
  {
   "cell_type": "markdown",
   "id": "65ed2456-da89-4a4a-b305-5b32b17f09be",
   "metadata": {},
   "source": [
    "<!--Empty Space for separating topics-->\n"
   ]
  },
  {
   "cell_type": "markdown",
   "id": "f53ae8b1-b87b-4756-89c7-3a4a757c878b",
   "metadata": {},
   "source": [
    "<a name=\"Test\"><h2 id=\"Test\">Test Sigmoid ,Tanh and Relu</h2></a>\n"
   ]
  },
  {
   "cell_type": "markdown",
   "id": "61f30b9b-31d7-4843-850c-f713cd712614",
   "metadata": {},
   "source": [
    "Train the network using the Sigmoid activation function\n"
   ]
  },
  {
   "cell_type": "code",
   "execution_count": 12,
   "id": "e71d38cf-e289-4809-b835-4aa517cbdf05",
   "metadata": {},
   "outputs": [],
   "source": [
    "# Train the model with sigmoid function\n",
    "\n",
    "learning_rate = 0.01\n",
    "model = Net(input_dim, hidden_dim1, hidden_dim2, output_dim)\n",
    "optimizer = torch.optim.SGD(model.parameters(), lr=learning_rate)\n",
    "training_results = train(model, criterion, train_loader, validation_loader, optimizer, epochs=cust_epochs)"
   ]
  },
  {
   "cell_type": "markdown",
   "id": "00b87496-a1f7-4d6f-8960-5f9f056f7b3c",
   "metadata": {},
   "source": [
    "Train the network using the Tanh activation function\n"
   ]
  },
  {
   "cell_type": "code",
   "execution_count": 13,
   "id": "477a5431-a172-44b2-a307-ff489ad7660c",
   "metadata": {},
   "outputs": [],
   "source": [
    "# Train the model with tanh function\n",
    "\n",
    "learning_rate = 0.01\n",
    "model_Tanh = NetTanh(input_dim, hidden_dim1, hidden_dim2, output_dim)\n",
    "optimizer = torch.optim.SGD(model_Tanh.parameters(), lr=learning_rate)\n",
    "training_results_tanch = train(model_Tanh, criterion, train_loader, validation_loader, optimizer, epochs=cust_epochs)"
   ]
  },
  {
   "cell_type": "markdown",
   "id": "6ed256dd-70b3-4a93-8ce1-4be1b68d6909",
   "metadata": {},
   "source": [
    "Train the network using the Relu activation function\n"
   ]
  },
  {
   "cell_type": "code",
   "execution_count": 14,
   "id": "3597d315-4b08-4d78-a57d-f8327cda64c8",
   "metadata": {},
   "outputs": [],
   "source": [
    "# Train the model with relu function\n",
    "\n",
    "learning_rate = 0.01\n",
    "modelRelu = NetRelu(input_dim, hidden_dim1, hidden_dim2, output_dim)\n",
    "optimizer = torch.optim.SGD(modelRelu.parameters(), lr=learning_rate)\n",
    "training_results_relu = train(modelRelu, criterion, train_loader, validation_loader, optimizer, epochs=cust_epochs)"
   ]
  },
  {
   "cell_type": "markdown",
   "id": "17f2e5ee-410e-4831-aafd-d4b9016da096",
   "metadata": {},
   "source": [
    "<!--Empty Space for separating topics-->\n"
   ]
  },
  {
   "cell_type": "markdown",
   "id": "75e242a6-9bb1-47c8-8899-dec2037d125b",
   "metadata": {},
   "source": [
    "<a name=\"Result\"><h2 id=\"Result\">Analyze Results</h2></a>\n"
   ]
  },
  {
   "cell_type": "markdown",
   "id": "dedbea58-92cd-4131-89ae-3d9e11653b1b",
   "metadata": {},
   "source": [
    "Compare the training loss for each activation \n"
   ]
  },
  {
   "cell_type": "code",
   "execution_count": 15,
   "id": "2bb433d5-621f-4f16-b432-c59356c37159",
   "metadata": {},
   "outputs": [
    {
     "data": {
      "text/plain": [
       "<matplotlib.legend.Legend at 0x16399de99d0>"
      ]
     },
     "execution_count": 15,
     "metadata": {},
     "output_type": "execute_result"
    },
    {
     "data": {
      "image/png": "[encoded data removed]",
      "text/plain": [
       "<Figure size 640x480 with 1 Axes>"
      ]
     },
     "metadata": {},
     "output_type": "display_data"
    }
   ],
   "source": [
    "# Compare the training loss\n",
    "\n",
    "plt.plot(training_results_tanch['training_loss'], label='tanh')\n",
    "plt.plot(training_results['training_loss'], label='sigmoid')\n",
    "plt.plot(training_results_relu['training_loss'], label='relu')\n",
    "plt.ylabel('loss')\n",
    "plt.title('training loss iterations')\n",
    "plt.legend()"
   ]
  },
  {
   "cell_type": "markdown",
   "id": "bd43832d-8414-456b-a23b-c0c268eafb70",
   "metadata": {},
   "source": [
    "Compare the validation loss for each model  \n"
   ]
  },
  {
   "cell_type": "code",
   "execution_count": 16,
   "id": "c10fc469-d900-4457-969e-880995281853",
   "metadata": {},
   "outputs": [
    {
     "data": {
      "text/plain": [
       "<matplotlib.legend.Legend at 0x16399e93e10>"
      ]
     },
     "execution_count": 16,
     "metadata": {},
     "output_type": "execute_result"
    },
    {
     "data": {
      "image/png": "[encoded data removed]",
      "text/plain": [
       "<Figure size 640x480 with 1 Axes>"
      ]
     },
     "metadata": {},
     "output_type": "display_data"
    }
   ],
   "source": [
    "# Compare the validation loss\n",
    "\n",
    "plt.plot(training_results_tanch['validation_accuracy'], label = 'tanh')\n",
    "plt.plot(training_results['validation_accuracy'], label = 'sigmoid')\n",
    "plt.plot(training_results_relu['validation_accuracy'], label = 'relu') \n",
    "plt.ylabel('validation accuracy')\n",
    "plt.xlabel('Iteration')   \n",
    "plt.legend()"
   ]
  },
  {
   "cell_type": "markdown",
   "id": "8d24aae9-da23-47dc-9094-a5fbaf674fdb",
   "metadata": {},
   "source": [
    "<!--Empty Space for separating topics-->\n"
   ]
  },
  {
   "cell_type": "markdown",
   "id": "da153f2e-2b1c-461d-b9f8-56dfdd3ebe18",
   "metadata": {},
   "source": [
    "<h2>About the Authors:</h2> \n",
    "\n",
    "<a href=\"https://www.linkedin.com/in/joseph-s-50398b136/\">Joseph Santarcangelo</a> has a PhD in Electrical Engineering, his research focused on using machine learning, signal processing, and computer vision to determine how videos impact human cognition. Joseph has been working for IBM since he completed his PhD. \n"
   ]
  },
  {
   "cell_type": "markdown",
   "id": "e8247b4e-9121-41a0-8c11-f921e8f9a977",
   "metadata": {},
   "source": [
    "Other contributors: <a href=\"https://www.linkedin.com/in/michelleccarey/\">Michelle Carey</a>, <a href=\"https://www.linkedin.com/in/jiahui-mavis-zhou-a4537814a\">Mavis Zhou</a>\n"
   ]
  },
  {
   "cell_type": "markdown",
   "id": "a96f2340-0298-49f7-a10d-c87729947900",
   "metadata": {},
   "source": [
    "<!--\n",
    "## Change Log\n",
    "\n",
    "|  Date (YYYY-MM-DD) |  Version | Changed By  |  Change Description |\n",
    "|---|---|---|---|\n",
    "| 2020-09-23  | 2.0  | Srishti  |  Migrated Lab to Markdown and added to course repo in GitLab |\n",
    "\n",
    "\n",
    "-->\n",
    "<hr>\n",
    "\n",
    "## <h3 align=\"center\"> &#169; IBM Corporation. All rights reserved. <h3/>\n"
   ]
  }
 ],
 "metadata": {
  "kernelspec": {
   "display_name": "Python 3",
   "language": "python",
   "name": "python3"
  },
  "language_info": {
   "codemirror_mode": {
    "name": "ipython",
    "version": 3
   },
   "file_extension": ".py",
   "mimetype": "text/x-python",
   "name": "python",
   "nbconvert_exporter": "python",
   "pygments_lexer": "ipython3",
   "version": "3.11.9"
  },
  "prev_pub_hash": "6e8b02b0ed908655b3491ae0062ae590473763ac9c81fc4eeeaaf5b7091883a3"
 },
 "nbformat": 4,
 "nbformat_minor": 4
}
